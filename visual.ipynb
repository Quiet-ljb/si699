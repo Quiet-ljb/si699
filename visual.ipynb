{
 "cells": [
  {
   "cell_type": "code",
   "execution_count": 37,
   "metadata": {},
   "outputs": [],
   "source": [
    "import pandas as pd\n",
    "import numpy as np\n",
    "import seaborn as sns\n",
    "import matplotlib.pyplot as plt"
   ]
  },
  {
   "cell_type": "code",
   "execution_count": 4,
   "metadata": {},
   "outputs": [
    {
     "data": {
      "text/html": [
       "<div>\n",
       "<style scoped>\n",
       "    .dataframe tbody tr th:only-of-type {\n",
       "        vertical-align: middle;\n",
       "    }\n",
       "\n",
       "    .dataframe tbody tr th {\n",
       "        vertical-align: top;\n",
       "    }\n",
       "\n",
       "    .dataframe thead th {\n",
       "        text-align: right;\n",
       "    }\n",
       "</style>\n",
       "<table border=\"1\" class=\"dataframe\">\n",
       "  <thead>\n",
       "    <tr style=\"text-align: right;\">\n",
       "      <th></th>\n",
       "      <th>doc_id</th>\n",
       "      <th>token_index</th>\n",
       "      <th>token</th>\n",
       "      <th>trailing_space</th>\n",
       "      <th>label</th>\n",
       "    </tr>\n",
       "  </thead>\n",
       "  <tbody>\n",
       "    <tr>\n",
       "      <th>0</th>\n",
       "      <td>7</td>\n",
       "      <td>0</td>\n",
       "      <td>Design</td>\n",
       "      <td>True</td>\n",
       "      <td>O</td>\n",
       "    </tr>\n",
       "    <tr>\n",
       "      <th>1</th>\n",
       "      <td>7</td>\n",
       "      <td>1</td>\n",
       "      <td>Thinking</td>\n",
       "      <td>True</td>\n",
       "      <td>O</td>\n",
       "    </tr>\n",
       "    <tr>\n",
       "      <th>2</th>\n",
       "      <td>7</td>\n",
       "      <td>2</td>\n",
       "      <td>for</td>\n",
       "      <td>True</td>\n",
       "      <td>O</td>\n",
       "    </tr>\n",
       "    <tr>\n",
       "      <th>3</th>\n",
       "      <td>7</td>\n",
       "      <td>3</td>\n",
       "      <td>innovation</td>\n",
       "      <td>True</td>\n",
       "      <td>O</td>\n",
       "    </tr>\n",
       "    <tr>\n",
       "      <th>4</th>\n",
       "      <td>7</td>\n",
       "      <td>4</td>\n",
       "      <td>reflexion</td>\n",
       "      <td>False</td>\n",
       "      <td>O</td>\n",
       "    </tr>\n",
       "  </tbody>\n",
       "</table>\n",
       "</div>"
      ],
      "text/plain": [
       "   doc_id  token_index       token  trailing_space label\n",
       "0       7            0      Design            True     O\n",
       "1       7            1    Thinking            True     O\n",
       "2       7            2         for            True     O\n",
       "3       7            3  innovation            True     O\n",
       "4       7            4   reflexion           False     O"
      ]
     },
     "execution_count": 4,
     "metadata": {},
     "output_type": "execute_result"
    }
   ],
   "source": [
    "data = pd.read_csv(\"train.csv\", index_col=0)\n",
    "data.head()"
   ]
  },
  {
   "cell_type": "code",
   "execution_count": 14,
   "metadata": {},
   "outputs": [
    {
     "name": "stderr",
     "output_type": "stream",
     "text": [
      "c:\\Users\\Shiyu Wu\\envs\\si670\\lib\\site-packages\\seaborn\\_oldcore.py:1498: FutureWarning: is_categorical_dtype is deprecated and will be removed in a future version. Use isinstance(dtype, CategoricalDtype) instead\n",
      "  if pd.api.types.is_categorical_dtype(vector):\n",
      "C:\\Users\\Shiyu Wu\\AppData\\Local\\Temp\\ipykernel_18808\\1765234849.py:3: UserWarning: Ignoring `palette` because no `hue` variable has been assigned.\n",
      "  fig = sns.histplot(data=total_token, kde=True, palette=\"Set2\")\n",
      "c:\\Users\\Shiyu Wu\\envs\\si670\\lib\\site-packages\\seaborn\\_oldcore.py:1119: FutureWarning: use_inf_as_na option is deprecated and will be removed in a future version. Convert inf values to NaN before operating instead.\n",
      "  with pd.option_context('mode.use_inf_as_na', True):\n"
     ]
    },
    {
     "data": {
      "text/plain": [
       "Text(0, 0.5, 'Doc Count')"
      ]
     },
     "execution_count": 14,
     "metadata": {},
     "output_type": "execute_result"
    },
    {
     "data": {
      "image/png": "[encoded data removed]",
      "text/plain": [
       "<Figure size 640x480 with 1 Axes>"
      ]
     },
     "metadata": {},
     "output_type": "display_data"
    }
   ],
   "source": [
    "total_token = list(data.groupby(['doc_id']).count()['token_index'])\n",
    "\n",
    "fig = sns.histplot(data=total_token, kde=True)\n",
    "fig.set_xlabel('Token Count')\n",
    "fig.set_ylabel('Doc Count')"
   ]
  },
  {
   "cell_type": "code",
   "execution_count": 29,
   "metadata": {},
   "outputs": [
    {
     "data": {
      "text/plain": [
       "[('O', 0.9992079316397353),\n",
       " ('B-NAME_STUDENT', 0.0003905936347870721),\n",
       " ('I-NAME_STUDENT', 0.00032230541045350137),\n",
       " ('B-URL_PERSONAL', 2.8891171833433765e-05),\n",
       " ('B-ID_NUM', 2.4388651547703828e-05),\n",
       " ('B-EMAIL', 1.1256300714324844e-05),\n",
       " ('I-PHONE_NUM', 5.628150357162422e-06),\n",
       " ('I-STREET_ADDRESS', 3.752100238108281e-06),\n",
       " ('B-USERNAME', 2.251260142864969e-06),\n",
       " ('B-PHONE_NUM', 2.251260142864969e-06),\n",
       " ('I-URL_PERSONAL', 3.752100238108281e-07),\n",
       " ('B-STREET_ADDRESS', 3.752100238108281e-07)]"
      ]
     },
     "execution_count": 29,
     "metadata": {},
     "output_type": "execute_result"
    }
   ],
   "source": [
    "labels = list(data['label'].unique())\n",
    "\n",
    "props = []\n",
    "\n",
    "for label in labels:\n",
    "    num = len(data[data['label'] == label])\n",
    "    props.append((label, num / len(data)))\n",
    "\n",
    "props.sort(key=lambda pair: pair[1], reverse=True)\n",
    "props"
   ]
  },
  {
   "cell_type": "code",
   "execution_count": 57,
   "metadata": {},
   "outputs": [
    {
     "data": {
      "text/plain": [
       "0.0007920683602646579"
      ]
     },
     "execution_count": 57,
     "metadata": {},
     "output_type": "execute_result"
    }
   ],
   "source": [
    "sum([prop[1] for prop in props[1:]])"
   ]
  },
  {
   "cell_type": "code",
   "execution_count": 56,
   "metadata": {},
   "outputs": [
    {
     "data": {
      "text/plain": [
       "738.8893817576934"
      ]
     },
     "execution_count": 56,
     "metadata": {},
     "output_type": "execute_result"
    }
   ],
   "source": [
    "sum(total_token) / len(total_token)"
   ]
  },
  {
   "cell_type": "code",
   "execution_count": 54,
   "metadata": {},
   "outputs": [
    {
     "name": "stderr",
     "output_type": "stream",
     "text": [
      "c:\\Users\\Shiyu Wu\\envs\\si670\\lib\\site-packages\\seaborn\\_oldcore.py:1498: FutureWarning: is_categorical_dtype is deprecated and will be removed in a future version. Use isinstance(dtype, CategoricalDtype) instead\n",
      "  if pd.api.types.is_categorical_dtype(vector):\n",
      "c:\\Users\\Shiyu Wu\\envs\\si670\\lib\\site-packages\\seaborn\\_oldcore.py:1498: FutureWarning: is_categorical_dtype is deprecated and will be removed in a future version. Use isinstance(dtype, CategoricalDtype) instead\n",
      "  if pd.api.types.is_categorical_dtype(vector):\n",
      "c:\\Users\\Shiyu Wu\\envs\\si670\\lib\\site-packages\\seaborn\\_oldcore.py:1765: FutureWarning: unique with argument that is not not a Series, Index, ExtensionArray, or np.ndarray is deprecated and will raise in a future version.\n",
      "  order = pd.unique(vector)\n",
      "c:\\Users\\Shiyu Wu\\envs\\si670\\lib\\site-packages\\seaborn\\_oldcore.py:1498: FutureWarning: is_categorical_dtype is deprecated and will be removed in a future version. Use isinstance(dtype, CategoricalDtype) instead\n",
      "  if pd.api.types.is_categorical_dtype(vector):\n"
     ]
    },
    {
     "data": {
      "text/plain": [
       "Text(0.5, 0, 'Labels')"
      ]
     },
     "execution_count": 54,
     "metadata": {},
     "output_type": "execute_result"
    },
    {
     "data": {
      "image/png": "[encoded data removed]",
      "text/plain": [
       "<Figure size 640x480 with 1 Axes>"
      ]
     },
     "metadata": {},
     "output_type": "display_data"
    }
   ],
   "source": [
    "fig = sns.barplot(x=[prop[0] for prop in props[1:]], y=[prop[1] for prop in props[1:]], width=0.5)\n",
    "plt.xticks(rotation=45, fontsize=8)\n",
    "fig.set_ylabel('Proportion')\n",
    "fig.set_xlabel('Labels')"
   ]
  },
  {
   "cell_type": "code",
   "execution_count": 75,
   "metadata": {},
   "outputs": [],
   "source": [
    "mat1 = [[     0 ,  0,   0,  0,     0,  0,   0,  0,  0,0\n",
    "  ,   0,   0],\n",
    " [   0,  14 ,  0,   0,  0,     0,  0,   2,  0,  0\n",
    "  ,   0,   0],\n",
    " [   0,   0 ,  0,   0,  0,     0,  0,   0,  0,  0\n",
    "  ,   0,   0],\n",
    " [   0,   0 ,  0, 200,  0,     0,  0,   0,  0,  0\n",
    "  ,   1,   0],\n",
    " [   0,   0 ,  0,   0,  1,     0,  0,   0,  0,  0\n",
    "  ,   0,   0],\n",
    " [  39,4888 ,218,1914,504,515458,783,4168,492,858\n",
    "  ,1167,2139],\n",
    " [   0,   0 ,  0,   0,  0,     0,  2,   0,  0,  0\n",
    "  ,   0,   0],\n",
    " [   0,   0 ,  0,   0,  0,     0,  1,  13,  0,  0\n",
    "  ,   0,   0],\n",
    " [   0,   0 ,  0,   0,  0,     0,  0,   0,  2,  0\n",
    "  ,   0,   0],\n",
    " [   0,   0 ,  0,   0,  0,     0,  0,   0,  0,  2\n",
    "  ,   0,   0],\n",
    " [   0,   1 ,  1,   0,  0,     0,  0,   0,  1,  1\n",
    "  , 159,   0],\n",
    " [   0,   0 ,  0,   0,  0,     0,  2,   0,  0,  0\n",
    "  ,   0,   4]]\n"
   ]
  },
  {
   "cell_type": "code",
   "execution_count": 76,
   "metadata": {},
   "outputs": [],
   "source": [
    "labels = ['I-URL_PERSONAL', 'B-ID_NUM', 'B-STREET_ADDRESS', 'B-NAME_STUDENT', 'B-PHONE_NUM', 'O', 'I-PHONE_NUM', 'B-URL_PERSONAL', 'I-STREET_ADDRESS', 'B-USERNAME', 'I-NAME_STUDENT', 'B-EMAIL']"
   ]
  },
  {
   "cell_type": "code",
   "execution_count": 77,
   "metadata": {},
   "outputs": [],
   "source": [
    "scores = []"
   ]
  },
  {
   "cell_type": "code",
   "execution_count": 78,
   "metadata": {},
   "outputs": [],
   "source": [
    "temp = []\n",
    "for i, row in enumerate(mat1):\n",
    "    fp = 0\n",
    "    for j in range(len(mat1)):\n",
    "        if j != i:\n",
    "            fp += mat1[j][i]\n",
    "    try:\n",
    "        temp.append(26 * row[i] / (26 * row[i] + fp + 25 * (sum(row) - row[i])))\n",
    "    except:\n",
    "        temp.append(-1)\n",
    "scores.append(temp)"
   ]
  },
  {
   "cell_type": "code",
   "execution_count": 79,
   "metadata": {},
   "outputs": [],
   "source": [
    "mat2 =  [[     0,  0,    0,   0,      0,    0,     0,    0,    0, 0\n",
    "  ,  0,   0],\n",
    " [  0,  16 , 0 ,   0 ,  0,     0  ,  0  ,   0  ,  0  ,  0\n",
    "  ,  0,   0],\n",
    " [  0,   0 , 0 ,   0 ,  0,     0  ,  0  ,   0  ,  0  ,  0\n",
    "  ,  0,   0],\n",
    " [  0,   0 , 0 , 200 ,  0,     0  ,  0  ,   0  ,  0  ,  0\n",
    "  ,  1,   0],\n",
    " [  0,   0 , 0 ,   0 ,  1,     0  ,  0  ,   0  ,  0  ,  0\n",
    "  ,  0,   0],\n",
    " [ 40,5203 ,68 ,1719 ,705,515752  ,930  ,4036  ,495  ,634\n",
    "  ,972,2074],\n",
    " [  0,   0 , 0 ,   0 ,  0,     0  ,  2  ,   0  ,  0  ,  0\n",
    "  ,  0,   0],\n",
    " [  0,   1 , 0 ,   0 ,  0,     0  ,  1  ,  12  ,  0  ,  0\n",
    "  ,  0,   0],\n",
    " [  0,   0 , 0 ,   0 ,  0,     0  ,  0  ,   0  ,  2  ,  0\n",
    "  ,  0,   0],\n",
    " [  0,   0 , 0 ,   0 ,  0,     0  ,  0  ,   0  ,  0  ,  2\n",
    "  ,  0,   0],\n",
    " [  0,   1 , 1 ,   0 ,  0,     0  ,  0  ,   0  ,  1  ,  1\n",
    "  ,159,   0],\n",
    " [  0,   0 , 0 ,   0 ,  0,     0  ,  2  ,   0  ,  0  ,  0\n",
    "  ,  0,   4]]\n",
    "\n"
   ]
  },
  {
   "cell_type": "code",
   "execution_count": 80,
   "metadata": {},
   "outputs": [],
   "source": [
    "temp = []\n",
    "for i, row in enumerate(mat2):\n",
    "    fp = 0\n",
    "    for j in range(len(mat2)):\n",
    "        if j != i:\n",
    "            fp += mat2[j][i]\n",
    "    try:\n",
    "        temp.append(26 * row[i] / (26 * row[i] + fp + 25 * (sum(row) - row[i])))\n",
    "    except:\n",
    "        temp.append(-1)\n",
    "scores.append(temp)"
   ]
  },
  {
   "cell_type": "code",
   "execution_count": 81,
   "metadata": {},
   "outputs": [],
   "source": [
    "mat3=   [[     0,  0,    0,  0,     0,  0,   0,  0,  0,0\n",
    "  ,   0,   0],\n",
    " [   0,  16 , 0 ,   0 ,  0,     0,  0,   0,  0,  0\n",
    "  ,   0,   0],\n",
    " [   0,   0 , 0 ,   0 ,  0,     0,  0,   0,  0,  0\n",
    "  ,   0,   0],\n",
    " [   0,   0 , 0 , 200 ,  0,     0,  0,   0,  0,  0\n",
    "  ,   1,   0],\n",
    " [   0,   0 , 0 ,   0 ,  1,     0,  0,   0,  0,  0\n",
    "  ,   0,   0],\n",
    " [  42,5119 ,67 ,2115 ,431,514434,905,4536,493,684\n",
    "  ,1637,2165],\n",
    " [   0,   0 , 0 ,   0 ,  0,     0,  2,   0,  0,  0\n",
    "  ,   0,   0],\n",
    " [   0,   1 , 0 ,   0 ,  0,     0,  1,  12,  0,  0\n",
    "  ,   0,   0],\n",
    " [   0,   0 , 0 ,   0 ,  0,     0,  0,   0,  2,  0\n",
    "  ,   0,   0],\n",
    " [   0,   0 , 0 ,   0 ,  0,     0,  0,   0,  0,  2\n",
    "  ,   0,   0],\n",
    " [   0,   1 , 1 ,   0 ,  0,     0,  0,   0,  1,  1\n",
    "  , 159,   0],\n",
    " [   0,   0 , 0 ,   0 ,  0,     0,  2,   0,  0,  0\n",
    "  ,   0,   4]]\n",
    "\n"
   ]
  },
  {
   "cell_type": "code",
   "execution_count": 82,
   "metadata": {},
   "outputs": [],
   "source": [
    "temp = []\n",
    "for i, row in enumerate(mat3):\n",
    "    fp = 0\n",
    "    for j in range(len(mat3)):\n",
    "        if j != i:\n",
    "            fp += mat3[j][i]\n",
    "    try:\n",
    "        temp.append(26 * row[i] / (26 * row[i] + fp + 25 * (sum(row) - row[i])))\n",
    "    except:\n",
    "        temp.append(-1)\n",
    "scores.append(temp)"
   ]
  },
  {
   "cell_type": "code",
   "execution_count": 83,
   "metadata": {},
   "outputs": [
    {
     "name": "stdout",
     "output_type": "stream",
     "text": [
      "I-URL_PERSONAL\n",
      "0.0\n",
      "B-ID_NUM\n",
      "0.07259317105290732\n",
      "B-STREET_ADDRESS\n",
      "0.0\n",
      "B-NAME_STUDENT\n",
      "0.7285627083839302\n",
      "B-PHONE_NUM\n",
      "0.04717236607509889\n",
      "O\n",
      "0.9685245754601386\n",
      "I-PHONE_NUM\n",
      "0.05633701693528087\n",
      "B-URL_PERSONAL\n",
      "0.06973503744714203\n",
      "I-STREET_ADDRESS\n",
      "0.0951804834078992\n",
      "B-USERNAME\n",
      "0.06777595100720461\n",
      "I-NAME_STUDENT\n",
      "0.754407480468355\n",
      "B-EMAIL\n",
      "0.04562699396343309\n"
     ]
    }
   ],
   "source": [
    "for i in range(12):\n",
    "    print(labels[i])\n",
    "    count = 0\n",
    "    tot = 0\n",
    "    if scores[0][i] != -1: \n",
    "        count += 1\n",
    "        tot += scores[0][i]\n",
    "    if scores[1][i] != -1: \n",
    "        count += 1\n",
    "        tot += scores[1][i]\n",
    "    if scores[2][i] != -1:\n",
    "        count += 1\n",
    "        tot += scores[2][i]\n",
    "    if count == 0:\n",
    "        print('Nan')\n",
    "    else:\n",
    "        print(tot / count)"
   ]
  }
 ],
 "metadata": {
  "kernelspec": {
   "display_name": "si670",
   "language": "python",
   "name": "python3"
  },
  "language_info": {
   "codemirror_mode": {
    "name": "ipython",
    "version": 3
   },
   "file_extension": ".py",
   "mimetype": "text/x-python",
   "name": "python",
   "nbconvert_exporter": "python",
   "pygments_lexer": "ipython3",
   "version": "3.9.13"
  }
 },
 "nbformat": 4,
 "nbformat_minor": 2
}
