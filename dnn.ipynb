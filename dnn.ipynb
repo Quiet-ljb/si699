{
 "cells": [
  {
   "cell_type": "code",
   "execution_count": 1,
   "metadata": {},
   "outputs": [
    {
     "name": "stdout",
     "output_type": "stream",
     "text": [
      "WARNING:tensorflow:From c:\\Users\\Shiyu Wu\\envs\\si670\\lib\\site-packages\\keras\\src\\losses.py:2976: The name tf.losses.sparse_softmax_cross_entropy is deprecated. Please use tf.compat.v1.losses.sparse_softmax_cross_entropy instead.\n",
      "\n"
     ]
    }
   ],
   "source": [
    "import tensorflow as tf\n",
    "from tensorflow.keras import layers, models\n",
    "import pandas as pd\n",
    "import numpy as np\n",
    "from word2vec import getVectors\n",
    "from getTrainTest import sample"
   ]
  },
  {
   "cell_type": "code",
   "execution_count": 2,
   "metadata": {},
   "outputs": [],
   "source": [
    "df = pd.read_csv('train.csv', index_col=0)\n",
    "\n",
    "train, validation, test = sample(df)\n",
    "vectorized_vectors_train, vectorized_vectors_validation, vectorized_vectors_test = np.array(getVectors(train)), np.array(getVectors(validation)), np.array(getVectors(test))"
   ]
  },
  {
   "cell_type": "code",
   "execution_count": 3,
   "metadata": {},
   "outputs": [],
   "source": [
    "from sklearn.preprocessing import LabelEncoder\n",
    "from sklearn.preprocessing import OneHotEncoder\n",
    "\n",
    "encoder = LabelEncoder()\n",
    "onehot = OneHotEncoder()"
   ]
  },
  {
   "cell_type": "code",
   "execution_count": 4,
   "metadata": {},
   "outputs": [],
   "source": [
    "trailing_space_train = np.array([int(item) for item in list(train['trailing_space'])])\n",
    "train_X = np.column_stack((vectorized_vectors_train, trailing_space_train))\n",
    "train_y = onehot.fit_transform(np.array(encoder.fit_transform(train['label'])).reshape(-1, 1)).toarray()"
   ]
  },
  {
   "cell_type": "code",
   "execution_count": 5,
   "metadata": {},
   "outputs": [],
   "source": [
    "trailing_space_validation = np.array([int(item) for item in list(validation['trailing_space'])])\n",
    "validation_X = np.column_stack((vectorized_vectors_validation, trailing_space_validation))\n",
    "validation_y = onehot.transform(np.array(encoder.transform(validation['label'])).reshape(-1, 1)).toarray()"
   ]
  },
  {
   "cell_type": "code",
   "execution_count": 6,
   "metadata": {},
   "outputs": [
    {
     "name": "stdout",
     "output_type": "stream",
     "text": [
      "WARNING:tensorflow:From c:\\Users\\Shiyu Wu\\envs\\si670\\lib\\site-packages\\keras\\src\\backend.py:873: The name tf.get_default_graph is deprecated. Please use tf.compat.v1.get_default_graph instead.\n",
      "\n"
     ]
    }
   ],
   "source": [
    "model = models.Sequential([\n",
    "    layers.Dense(512, activation='relu'),\n",
    "    layers.Dense(2048, activation='relu'),\n",
    "    layers.Dense(1024, activation='relu'),\n",
    "    layers.Dense(512, activation='relu'),\n",
    "    layers.Dense(12, activation='softmax')\n",
    "])\n",
    "\n",
    "model.compile(loss='categorical_crossentropy', optimizer=tf.keras.optimizers.legacy.Adam(0.001), metrics=['categorical_crossentropy'])"
   ]
  },
  {
   "cell_type": "code",
   "execution_count": 7,
   "metadata": {},
   "outputs": [
    {
     "name": "stdout",
     "output_type": "stream",
     "text": [
      "WARNING:tensorflow:From c:\\Users\\Shiyu Wu\\envs\\si670\\lib\\site-packages\\keras\\src\\utils\\tf_utils.py:492: The name tf.ragged.RaggedTensorValue is deprecated. Please use tf.compat.v1.ragged.RaggedTensorValue instead.\n",
      "\n",
      "WARNING:tensorflow:From c:\\Users\\Shiyu Wu\\envs\\si670\\lib\\site-packages\\keras\\src\\engine\\base_layer_utils.py:384: The name tf.executing_eagerly_outside_functions is deprecated. Please use tf.compat.v1.executing_eagerly_outside_functions instead.\n",
      "\n",
      "10411/10411 [==============================] - 307s 29ms/step - loss: 1.5398 - categorical_crossentropy: 1.5398 - val_loss: 0.9378 - val_categorical_crossentropy: 0.9378\n"
     ]
    },
    {
     "data": {
      "text/plain": [
       "<keras.src.callbacks.History at 0x1df24398b50>"
      ]
     },
     "execution_count": 7,
     "metadata": {},
     "output_type": "execute_result"
    }
   ],
   "source": [
    "model.fit(train_X, train_y, epochs=1, batch_size=256, validation_data=(validation_X, validation_y))"
   ]
  },
  {
   "cell_type": "code",
   "execution_count": 8,
   "metadata": {},
   "outputs": [],
   "source": [
    "trailing_space_test = np.array([int(item) for item in list(test['trailing_space'])])\n",
    "test_X = np.column_stack((vectorized_vectors_test, trailing_space_test))\n",
    "test_y = onehot.transform(np.array(encoder.transform(test['label'])).reshape(-1, 1)).toarray()"
   ]
  },
  {
   "cell_type": "code",
   "execution_count": 9,
   "metadata": {},
   "outputs": [
    {
     "name": "stdout",
     "output_type": "stream",
     "text": [
      "16658/16658 [==============================] - 39s 2ms/step\n"
     ]
    },
    {
     "data": {
      "text/plain": [
       "array([[2.6495660e-30, 1.4328980e-31, 9.0674623e-16, ..., 1.2200885e-26,\n",
       "        0.0000000e+00, 1.0000000e+00],\n",
       "       [0.0000000e+00, 0.0000000e+00, 7.3687768e-26, ..., 0.0000000e+00,\n",
       "        0.0000000e+00, 1.0000000e+00],\n",
       "       [1.0045765e-01, 1.3249974e-01, 5.9523210e-03, ..., 9.3853176e-02,\n",
       "        4.8035022e-06, 4.8672028e-02],\n",
       "       ...,\n",
       "       [0.0000000e+00, 0.0000000e+00, 0.0000000e+00, ..., 0.0000000e+00,\n",
       "        0.0000000e+00, 1.0000000e+00],\n",
       "       [0.0000000e+00, 0.0000000e+00, 1.9201888e-31, ..., 0.0000000e+00,\n",
       "        0.0000000e+00, 1.0000000e+00],\n",
       "       [2.0019388e-35, 4.5816747e-37, 8.7741022e-19, ..., 5.0540474e-31,\n",
       "        0.0000000e+00, 1.0000000e+00]], dtype=float32)"
      ]
     },
     "execution_count": 9,
     "metadata": {},
     "output_type": "execute_result"
    }
   ],
   "source": [
    "pred = model.predict(test_X)\n",
    "pred"
   ]
  },
  {
   "cell_type": "code",
   "execution_count": 15,
   "metadata": {},
   "outputs": [
    {
     "name": "stdout",
     "output_type": "stream",
     "text": [
      "83287/83287 [==============================] - 210s 3ms/step\n"
     ]
    },
    {
     "data": {
      "text/plain": [
       "array([[     0,      0,      0,      0,  73770,      0,      0,      0,\n",
       "             0,      0, 148327,      0],\n",
       "       [     0,      0,      0,      0,  98991,      0,      0,      0,\n",
       "             0,      0, 123106,      0],\n",
       "       [     0,      0, 210656,      0,   4427,      0,      0,   6357,\n",
       "             0,      0,    452,    205],\n",
       "       [     0,      0,      0,      0,  36950,      0,      0,      0,\n",
       "             0,      0, 185147,      0],\n",
       "       [     0,      0,      0,      0, 222097,      0,      0,      0,\n",
       "             0,      0,      0,      0],\n",
       "       [     0,      0,      0,      0,  40807,      0,      0,      0,\n",
       "             0,      0, 181290,      0],\n",
       "       [     0,      0,      0,      0, 110873,      0,      0,      0,\n",
       "             0,      0, 111224,      0],\n",
       "       [     0,      0,   5449,      0,   2829,      0,      0, 212282,\n",
       "             0,    528,   1009,      0],\n",
       "       [     0,      0,      0,      0,  14599,      0,      0,      0,\n",
       "             0,      0, 207498,      0],\n",
       "       [     0,      0,      0,      0,  66579,      0,      0,      0,\n",
       "             0,  88641,  66877,      0],\n",
       "       [     0,      0,      0,      0,      0,      0,      0,      0,\n",
       "             0,      0, 222097,      0],\n",
       "       [     0,      0,    156,      0,  37547,      0,      0,     95,\n",
       "             0,      1,  23260, 161038]], dtype=int64)"
      ]
     },
     "execution_count": 15,
     "metadata": {},
     "output_type": "execute_result"
    }
   ],
   "source": [
    "from sklearn.metrics import confusion_matrix\n",
    "\n",
    "pred_train = model.predict(train_X)\n",
    "pred_train = encoder.inverse_transform(onehot.inverse_transform(pred_train).reshape(1, -1)[0])\n",
    "confusion_matrix(train['label'], pred_train)"
   ]
  },
  {
   "cell_type": "code",
   "execution_count": 10,
   "metadata": {},
   "outputs": [],
   "source": [
    "pred = encoder.inverse_transform(onehot.inverse_transform(pred).reshape(1, -1)[0])"
   ]
  },
  {
   "cell_type": "code",
   "execution_count": 14,
   "metadata": {},
   "outputs": [
    {
     "data": {
      "text/plain": [
       "array([[     0,      0,      0,      0,      1,      0,      0,      0,\n",
       "             0,      0,      5,      0],\n",
       "       [     0,      0,      0,      0,      5,      0,      0,      0,\n",
       "             0,      0,     11,      0],\n",
       "       [     0,      0,    192,      0,      4,      0,      0,      5,\n",
       "             0,      0,      0,      0],\n",
       "       [     0,      0,      0,      0,      1,      0,      0,      0,\n",
       "             0,      0,      0,      0],\n",
       "       [     0,      0,      0,      0,      0,      0,      0,      0,\n",
       "             0,      0,      0,      0],\n",
       "       [     0,      0,      0,      0,      2,      0,      0,      0,\n",
       "             0,      0,     12,      0],\n",
       "       [     0,      0,      0,      0,      1,      0,      0,      0,\n",
       "             0,      0,      1,      0],\n",
       "       [     0,      0,      2,      0,      3,      0,      0,    155,\n",
       "             0,      1,      2,      0],\n",
       "       [     0,      0,      0,      0,      0,      0,      0,      0,\n",
       "             0,      0,      2,      0],\n",
       "       [     0,      0,      0,      0,      1,      0,      0,      0,\n",
       "             0,      0,      1,      0],\n",
       "       [     0,      0,      0,      0,      0,      0,      0,      0,\n",
       "             0,      0,      0,      0],\n",
       "       [     0,      0,    424,      0,  90693,      0,      0,    270,\n",
       "             0,      1,  55295, 385945]], dtype=int64)"
      ]
     },
     "execution_count": 14,
     "metadata": {},
     "output_type": "execute_result"
    }
   ],
   "source": [
    "confusion_matrix(test['label'], pred)"
   ]
  }
 ],
 "metadata": {
  "kernelspec": {
   "display_name": "Python 3.11.2 ('ml')",
   "language": "python",
   "name": "python3"
  },
  "language_info": {
   "codemirror_mode": {
    "name": "ipython",
    "version": 3
   },
   "file_extension": ".py",
   "mimetype": "text/x-python",
   "name": "python",
   "nbconvert_exporter": "python",
   "pygments_lexer": "ipython3",
   "version": "3.9.13"
  },
  "vscode": {
   "interpreter": {
    "hash": "bb038e64cb219c383df70f5c80cdd2d783dfdd81754dd9acb0a995428798bb53"
   }
  }
 },
 "nbformat": 4,
 "nbformat_minor": 2
}
